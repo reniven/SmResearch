{
 "cells": [
  {
   "cell_type": "code",
   "execution_count": 25,
   "metadata": {
    "collapsed": true
   },
   "outputs": [],
   "source": [
    "import csv\n",
    "import numpy as np\n",
    "import ast"
   ]
  },
  {
   "cell_type": "code",
   "execution_count": 36,
   "metadata": {},
   "outputs": [],
   "source": [
    "def featuresExtraction(features_file):\n",
    "    features = []\n",
    "    convertedArray = []\n",
    "    \n",
    "    file = open(features_file, encoding=\"utf8\")\n",
    "    content = file.readlines()\n",
    "    splitArray = content[0].split(\"\\?\")\n",
    "    for x in splitArray:\n",
    "        convertedArray.append(ast.literal_eval(x))\n",
    "    file.close()\n",
    "    \n",
    "    for i, j in enumerate(convertedArray):\n",
    "        if 'retweeted_status'in j and 'extended_tweet' in j['retweeted_status']:\n",
    "            features.append(j['retweeted_status']['extended_tweet']['full_text'])\n",
    "        elif 'retweeted_status' not in j and 'extended_tweet' in j:\n",
    "            features.append(j['extended_tweet']['full_text'])\n",
    "        else:\n",
    "            features.append(j['text'])\n",
    "    \n",
    "    return np.array(features)"
   ]
  },
  {
   "cell_type": "code",
   "execution_count": 27,
   "metadata": {
    "collapsed": true
   },
   "outputs": [],
   "source": [
    "def labelExtraction(label_file):\n",
    "#     csv_file = open(file)\n",
    "#     csv_reader = csv.reader(csv_file, delimiter = ' ')\n",
    "#     labels = []\n",
    "#     for row in csv_reader:\n",
    "#         labels.append(row[0])\n",
    "    labels = np.genfromtxt(label_file,dtype=None)\n",
    "    return labels"
   ]
  },
  {
   "cell_type": "code",
   "execution_count": 37,
   "metadata": {},
   "outputs": [
    {
     "ename": "SyntaxError",
     "evalue": "unexpected EOF while parsing (<unknown>, line 0)",
     "output_type": "error",
     "traceback": [
      "Traceback \u001b[1;36m(most recent call last)\u001b[0m:\n",
      "  File \u001b[0;32m\"C:\\ProgramData\\Anaconda3\\lib\\site-packages\\IPython\\core\\interactiveshell.py\"\u001b[0m, line \u001b[0;32m2862\u001b[0m, in \u001b[0;35mrun_code\u001b[0m\n    exec(code_obj, self.user_global_ns, self.user_ns)\n",
      "  File \u001b[0;32m\"<ipython-input-37-49d8f5cf548b>\"\u001b[0m, line \u001b[0;32m1\u001b[0m, in \u001b[0;35m<module>\u001b[0m\n    featuresExtraction(\"../Data/secondTweetsC.txt\")\n",
      "  File \u001b[0;32m\"<ipython-input-36-deef0d1d0402>\"\u001b[0m, line \u001b[0;32m9\u001b[0m, in \u001b[0;35mfeaturesExtraction\u001b[0m\n    convertedArray.append(ast.literal_eval(x))\n",
      "  File \u001b[0;32m\"C:\\ProgramData\\Anaconda3\\lib\\ast.py\"\u001b[0m, line \u001b[0;32m48\u001b[0m, in \u001b[0;35mliteral_eval\u001b[0m\n    node_or_string = parse(node_or_string, mode='eval')\n",
      "\u001b[1;36m  File \u001b[1;32m\"C:\\ProgramData\\Anaconda3\\lib\\ast.py\"\u001b[1;36m, line \u001b[1;32m35\u001b[1;36m, in \u001b[1;35mparse\u001b[1;36m\u001b[0m\n\u001b[1;33m    return compile(source, filename, mode, PyCF_ONLY_AST)\u001b[0m\n",
      "\u001b[1;36m  File \u001b[1;32m\"<unknown>\"\u001b[1;36m, line \u001b[1;32munknown\u001b[0m\n\u001b[1;33m    \u001b[0m\n\u001b[1;37m    ^\u001b[0m\n\u001b[1;31mSyntaxError\u001b[0m\u001b[1;31m:\u001b[0m unexpected EOF while parsing\n"
     ]
    }
   ],
   "source": [
    "featuresExtraction(\"../Data/secondTweetsC.txt\")"
   ]
  },
  {
   "cell_type": "code",
   "execution_count": 51,
   "metadata": {},
   "outputs": [
    {
     "ename": "SyntaxError",
     "evalue": "invalid character in identifier (<unknown>, line 1)",
     "output_type": "error",
     "traceback": [
      "Traceback \u001b[1;36m(most recent call last)\u001b[0m:\n",
      "  File \u001b[0;32m\"C:\\ProgramData\\Anaconda3\\lib\\site-packages\\IPython\\core\\interactiveshell.py\"\u001b[0m, line \u001b[0;32m2862\u001b[0m, in \u001b[0;35mrun_code\u001b[0m\n    exec(code_obj, self.user_global_ns, self.user_ns)\n",
      "  File \u001b[0;32m\"<ipython-input-51-c26d5aa1e201>\"\u001b[0m, line \u001b[0;32m6\u001b[0m, in \u001b[0;35m<module>\u001b[0m\n    k = ast.literal_eval(splitArray[x])\n",
      "  File \u001b[0;32m\"C:\\ProgramData\\Anaconda3\\lib\\ast.py\"\u001b[0m, line \u001b[0;32m48\u001b[0m, in \u001b[0;35mliteral_eval\u001b[0m\n    node_or_string = parse(node_or_string, mode='eval')\n",
      "\u001b[1;36m  File \u001b[1;32m\"C:\\ProgramData\\Anaconda3\\lib\\ast.py\"\u001b[1;36m, line \u001b[1;32m35\u001b[1;36m, in \u001b[1;35mparse\u001b[1;36m\u001b[0m\n\u001b[1;33m    return compile(source, filename, mode, PyCF_ONLY_AST)\u001b[0m\n",
      "\u001b[1;36m  File \u001b[1;32m\"<unknown>\"\u001b[1;36m, line \u001b[1;32m1\u001b[0m\n\u001b[1;33m    ﻿{'created_at': 'Fri Sep 28 17:32:01 +0000 2018', 'id': 1045727845597802497, 'id_str': '1045727845597802497', 'text': 'RT @LiveAction: Did you know?\\n\\n11% of abortions are committed on children and teens.\\n\\nMany are brought in for multiple abortions. \\n\\nWith th…', 'source': '<a href=\"http://twitter.com/download/iphone\" rel=\"nofollow\">Twitter for iPhone</a>', 'truncated': False, 'in_reply_to_status_id': None, 'in_reply_to_status_id_str': None, 'in_reply_to_user_id': None, 'in_reply_to_user_id_str': None, 'in_reply_to_screen_name': None, 'user': {'id': 17945804, 'id_str': '17945804', 'name': 'mark_my_words', 'screen_name': 'mark_my_words', 'location': 'Northwest Indiana, USA', 'url': 'http://meanderingpath.blogspot.com/', 'description': 'I like to write, think and express my views on various issues. See my blog http://meanderingpath.blogspot.com for more.', 'translator_type': 'none', 'protected': False, 'verified': False, 'followers_count': 341, 'friends_count': 274, 'listed_count': 8, 'favourites_count': 26770, 'statuses_count': 17455, 'created_at': 'Sun Dec 07 19:05:07 +0000 2008', 'utc_offset': None, 'time_zone': None, 'geo_enabled': True, 'lang': 'en', 'contributors_enabled': False, 'is_translator': False, 'profile_background_color': '1A1B1F', 'profile_background_image_url': 'http://abs.twimg.com/images/themes/theme9/bg.gif', 'profile_background_image_url_https': 'https://abs.twimg.com/images/themes/theme9/bg.gif', 'profile_background_tile': False, 'profile_link_color': '2FC2EF', 'profile_sidebar_border_color': '181A1E', 'profile_sidebar_fill_color': '252429', 'profile_text_color': '666666', 'profile_use_background_image': True, 'profile_image_url': 'http://pbs.twimg.com/profile_images/962523029434765313/fI9KXbAK_normal.jpg', 'profile_image_url_https': 'https://pbs.twimg.com/profile_images/962523029434765313/fI9KXbAK_normal.jpg', 'profile_banner_url': 'https://pbs.twimg.com/profile_banners/17945804/1518318453', 'default_profile': False, 'default_profile_image': False, 'following': None, 'follow_request_sent': None, 'notifications': None}, 'geo': None, 'coordinates': None, 'place': None, 'contributors': None, 'retweeted_status': {'created_at': 'Fri Sep 28 17:30:28 +0000 2018', 'id': 1045727452989968384, 'id_str': '1045727452989968384', 'text': 'Did you know?\\n\\n11% of abortions are committed on children and teens.\\n\\nMany are brought in for multiple abortions.… https://t.co/z6EnMiJ1oX', 'source': '<a href=\"http://www.hubspot.com/\" rel=\"nofollow\">HubSpot</a>', 'truncated': True, 'in_reply_to_status_id': None, 'in_reply_to_status_id_str': None, 'in_reply_to_user_id': None, 'in_reply_to_user_id_str': None, 'in_reply_to_screen_name': None, 'user': {'id': 18001922, 'id_str': '18001922', 'name': 'Live Action', 'screen_name': 'LiveAction', 'location': 'California', 'url': 'http://liveaction.org', 'description': 'Live Action is a new media movement dedicated to building a culture of life and ending abortion.', 'translator_type': 'none', 'protected': False, 'verified': True, 'followers_count': 69782, 'friends_count': 1617, 'listed_count': 974, 'favourites_count': 260, 'statuses_count': 37050, 'created_at': 'Tue Dec 09 20:48:11 +0000 2008', 'utc_offset': None, 'time_zone': None, 'geo_enabled': False, 'lang': 'en', 'contributors_enabled': False, 'is_translator': False, 'profile_background_color': '022330', 'profile_background_image_url': 'http://abs.twimg.com/images/themes/theme9/bg.gif', 'profile_background_image_url_https': 'https://abs.twimg.com/images/themes/theme9/bg.gif', 'profile_background_tile': True, 'profile_link_color': '0084B4', 'profile_sidebar_border_color': 'A8C7F7', 'profile_sidebar_fill_color': 'C0DFEC', 'profile_text_color': '333333', 'profile_use_background_image': True, 'profile_image_url': 'http://pbs.twimg.com/profile_images/1034204097123999744/QBxCf6Yz_normal.jpg', 'profile_image_url_https': 'https://pbs.twimg.com/profile_images/1034204097123999744/QBxCf6Yz_normal.jpg', 'profile_banner_url': 'https://pbs.twimg.com/profile_banners/18001922/1535149943', 'default_profile': False, 'default_profile_image': False, 'following': None, 'follow_request_sent': None, 'notifications': None}, 'geo': None, 'coordinates': None, 'place': None, 'contributors': None, 'is_quote_status': False, 'extended_tweet': {'full_text': 'Did you know?\\n\\n11% of abortions are committed on children and teens.\\n\\nMany are brought in for multiple abortions. \\n\\nWith the help of Big Abortion, child rapists regularly get off scot-free.', 'display_text_range': [0, 189], 'entities': {'hashtags': [], 'urls': [], 'user_mentions': [], 'symbols': []}}, 'quote_count': 0, 'reply_count': 0, 'retweet_count': 5, 'favorite_count': 6, 'entities': {'hashtags': [], 'urls': [{'url': 'https://t.co/z6EnMiJ1oX', 'expanded_url': 'https://twitter.com/i/web/status/1045727452989968384', 'display_url': 'twitter.com/i/web/status/1…', 'indices': [115, 138]}], 'user_mentions': [], 'symbols': []}, 'favorited': False, 'retweeted': False, 'filter_level': 'low', 'lang': 'en'}, 'is_quote_status': False, 'quote_count': 0, 'reply_count': 0, 'retweet_count': 0, 'favorite_count': 0, 'entities': {'hashtags': [], 'urls': [], 'user_mentions': [{'screen_name': 'LiveAction', 'name': 'Live Action', 'id': 18001922, 'id_str': '18001922', 'indices': [3, 14]}], 'symbols': []}, 'favorited': False, 'retweeted': False, 'filter_level': 'low', 'lang': 'en', 'timestamp_ms': '1538155921731'}\u001b[0m\n\u001b[1;37m    ^\u001b[0m\n\u001b[1;31mSyntaxError\u001b[0m\u001b[1;31m:\u001b[0m invalid character in identifier\n"
     ]
    }
   ],
   "source": [
    "convertedArray = []\n",
    "file = open(\"../Data/secondTweetsC.txt\", encoding=\"utf8\")\n",
    "content = file.readlines()\n",
    "splitArray = content[0].split(\"\\?\")\n",
    "for x in range(len(splitArray)):\n",
    "    k = ast.literal_eval('\"' + splitArray[x] + '\"')\n",
    "    convertedArray.append(k)"
   ]
  },
  {
   "cell_type": "code",
   "execution_count": 41,
   "metadata": {},
   "outputs": [],
   "source": [
    "k = ast.literal_eval(splitArray[0])"
   ]
  },
  {
   "cell_type": "code",
   "execution_count": 43,
   "metadata": {},
   "outputs": [
    {
     "data": {
      "text/plain": [
       "'Fri Sep 28 17:32:01 +0000 2018'"
      ]
     },
     "execution_count": 43,
     "metadata": {},
     "output_type": "execute_result"
    }
   ],
   "source": [
    "k['created_at']"
   ]
  },
  {
   "cell_type": "code",
   "execution_count": 48,
   "metadata": {},
   "outputs": [
    {
     "data": {
      "text/plain": [
       "572"
      ]
     },
     "execution_count": 48,
     "metadata": {},
     "output_type": "execute_result"
    }
   ],
   "source": [
    "len(splitArray)"
   ]
  },
  {
   "cell_type": "code",
   "execution_count": 50,
   "metadata": {},
   "outputs": [
    {
     "data": {
      "text/plain": [
       "'{\\'created_at\\': \\'Fri Sep 28 17:58:28 +0000 2018\\', \\'id\\': 1045734501945618432, \\'id_str\\': \\'1045734501945618432\\', \\'text\\': \\'How complicated God/Evolution made it by having little people form inside other people! A rights-based legal framew… https://t.co/QpQxoNYs0h\\', \\'source\\': \\'<a href=\"http://twitter.com\" rel=\"nofollow\">Twitter Web Client</a>\\', \\'truncated\\': True, \\'in_reply_to_status_id\\': None, \\'in_reply_to_status_id_str\\': None, \\'in_reply_to_user_id\\': None, \\'in_reply_to_user_id_str\\': None, \\'in_reply_to_screen_name\\': None, \\'user\\': {\\'id\\': 833650495579357185, \\'id_str\\': \\'833650495579357185\\', \\'name\\': \\'David Schmitt\\', \\'screen_name\\': \\'SeeThinknSpeak\\', \\'location\\': None, \\'url\\': \\'http://waterwhistleblower.org\\', \\'description\\': \\'Neuroethology. Sci & Med Innovator. Clean water & clean government. \\\\nGoFundMe: https://t.co/K66wUgq2HT Philo: https://t.co/UPdvoZIP12\\', \\'translator_type\\': \\'none\\', \\'protected\\': False, \\'verified\\': False, \\'followers_count\\': 1376, \\'friends_count\\': 4250, \\'listed_count\\': 16, \\'favourites_count\\': 2391, \\'statuses_count\\': 3562, \\'created_at\\': \\'Mon Feb 20 12:12:21 +0000 2017\\', \\'utc_offset\\': None, \\'time_zone\\': None, \\'geo_enabled\\': False, \\'lang\\': \\'en\\', \\'contributors_enabled\\': False, \\'is_translator\\': False, \\'profile_background_color\\': \\'F5F8FA\\', \\'profile_background_image_url\\': \\'\\', \\'profile_background_image_url_https\\': \\'\\', \\'profile_background_tile\\': False, \\'profile_link_color\\': \\'1DA1F2\\', \\'profile_sidebar_border_color\\': \\'C0DEED\\', \\'profile_sidebar_fill_color\\': \\'DDEEF6\\', \\'profile_text_color\\': \\'333333\\', \\'profile_use_background_image\\': True, \\'profile_image_url\\': \\'http://pbs.twimg.com/profile_images/854477987487432704/eI0Q2NYv_normal.jpg\\', \\'profile_image_url_https\\': \\'https://pbs.twimg.com/profile_images/854477987487432704/eI0Q2NYv_normal.jpg\\', \\'profile_banner_url\\': \\'https://pbs.twimg.com/profile_banners/833650495579357185/1494470618\\', \\'default_profile\\': True, \\'default_profile_image\\': False, \\'following\\': None, \\'follow_request_sent\\': None, \\'notifications\\': None}, \\'geo\\': None, \\'coordinates\\': None, \\'place\\': None, \\'contributors\\': None, \\'quoted_status_id\\': 1045675428768354304, \\'quoted_status_id_str\\': \\'1045675428768354304\\', \\'quoted_status\\': {\\'created_at\\': \\'Fri Sep 28 14:03:44 +0000 2018\\', \\'id\\': 1045675428768354304, \\'id_str\\': \\'1045675428768354304\\', \\'text\\': \\'Woman wails at Sen. Flake that Kavanaugh will \"tell everyone what they can do to their bodies.\"  IT\\\\\\'S ALL ABOUT ABO… https://t.co/FQtKud6YGF\\', \\'display_text_range\\': [0, 140], \\'source\\': \\'<a href=\"http://twitter.com\" rel=\"nofollow\">Twitter Web Client</a>\\', \\'truncated\\': True, \\'in_reply_to_status_id\\': None, \\'in_reply_to_status_id_str\\': None, \\'in_reply_to_user_id\\': None, \\'in_reply_to_user_id_str\\': None, \\'in_reply_to_screen_name\\': None, \\'user\\': {\\'id\\': 196168350, \\'id_str\\': \\'196168350\\', \\'name\\': \\'Ann Coulter\\', \\'screen_name\\': \\'AnnCoulter\\', \\'location\\': \\'Los Angeles/NYC\\', \\'url\\': \\'http://www.anncoulter.com\\', \\'description\\': \\'Author - follow me on #Facebook! http://goo.gl/JvMjld\\', \\'translator_type\\': \\'none\\', \\'protected\\': False, \\'verified\\': True, \\'followers_count\\': 2046412, \\'friends_count\\': 963, \\'listed_count\\': 13020, \\'favourites_count\\': 17, \\'statuses_count\\': 36611, \\'created_at\\': \\'Tue Sep 28 14:04:51 +0000 2010\\', \\'utc_offset\\': None, \\'time_zone\\': None, \\'geo_enabled\\': False, \\'lang\\': \\'en\\', \\'contributors_enabled\\': False, \\'is_translator\\': False, \\'profile_background_color\\': \\'000000\\', \\'profile_background_image_url\\': \\'http://abs.twimg.com/images/themes/theme1/bg.png\\', \\'profile_background_image_url_https\\': \\'https://abs.twimg.com/images/themes/theme1/bg.png\\', \\'profile_background_tile\\': False, \\'profile_link_color\\': \\'F5ABB5\\', \\'profile_sidebar_border_color\\': \\'000000\\', \\'profile_sidebar_fill_color\\': \\'000000\\', \\'profile_text_color\\': \\'000000\\', \\'profile_use_background_image\\': False, \\'profile_image_url\\': \\'http://pbs.twimg.com/profile_images/598204767739981825/iD1DZBbS_normal.jpg\\', \\'profile_image_url_https\\': \\'https://pbs.twimg.com/profile_images/598204767739981825/iD1DZBbS_normal.jpg\\', \\'profile_banner_url\\': \\'https://pbs.twimg.com/profile_banners/196168350/1534785019\\', \\'default_profile\\': False, \\'default_profile_image\\': False, \\'following\\': None, \\'follow_request_sent\\': None, \\'notifications\\': None}, \\'geo\\': None, \\'coordinates\\': None, \\'place\\': None, \\'contributors\\': None, \\'quoted_status_id\\': 1045669475524038656, \\'quoted_status_id_str\\': \\'1045669475524038656\\', \\'is_quote_status\\': True, \\'extended_tweet\\': {\\'full_text\\': \\'Woman wails at Sen. Flake that Kavanaugh will \"tell everyone what they can do to their bodies.\"  IT\\\\\\'S ALL ABOUT ABORTION. https://t.co/tVxIOmlpnb\\', \\'display_text_range\\': [0, 121], \\'entities\\': {\\'hashtags\\': [], \\'urls\\': [{\\'url\\': \\'https://t.co/tVxIOmlpnb\\', \\'expanded_url\\': \\'https://twitter.com/davidmackau/status/1045669475524038656\\', \\'display_url\\': \\'twitter.com/davidmackau/st…\\', \\'indices\\': [122, 145]}], \\'user_mentions\\': [], \\'symbols\\': []}}, \\'quote_count\\': 102, \\'reply_count\\': 574, \\'retweet_count\\': 1302, \\'favorite_count\\': 4151, \\'entities\\': {\\'hashtags\\': [], \\'urls\\': [{\\'url\\': \\'https://t.co/FQtKud6YGF\\', \\'expanded_url\\': \\'https://twitter.com/i/web/status/1045675428768354304\\', \\'display_url\\': \\'twitter.com/i/web/status/1…\\', \\'indices\\': [117, 140]}], \\'user_mentions\\': [], \\'symbols\\': []}, \\'favorited\\': False, \\'retweeted\\': False, \\'possibly_sensitive\\': False, \\'filter_level\\': \\'low\\', \\'lang\\': \\'en\\'}, \\'quoted_status_permalink\\': {\\'url\\': \\'https://t.co/coMvrcNLLF\\', \\'expanded\\': \\'https://twitter.com/AnnCoulter/status/1045675428768354304\\', \\'display\\': \\'twitter.com/AnnCoulter/sta…\\'}, \\'is_quote_status\\': True, \\'extended_tweet\\': {\\'full_text\\': \\'How complicated God/Evolution made it by having little people form inside other people! A rights-based legal framework just does not settle this property-line dispute. The overarching framework must be a moral one based on Charity (the pre-IRS definition) and sexual standards.\\', \\'display_text_range\\': [0, 277], \\'entities\\': {\\'hashtags\\': [], \\'urls\\': [], \\'user_mentions\\': [], \\'symbols\\': []}}, \\'quote_count\\': 0, \\'reply_count\\': 0, \\'retweet_count\\': 0, \\'favorite_count\\': 0, \\'entities\\': {\\'hashtags\\': [], \\'urls\\': [{\\'url\\': \\'https://t.co/QpQxoNYs0h\\', \\'expanded_url\\': \\'https://twitter.com/i/web/status/1045734501945618432\\', \\'display_url\\': \\'twitter.com/i/web/status/1…\\', \\'indices\\': [117, 140]}], \\'user_mentions\\': [], \\'symbols\\': []}, \\'favorited\\': False, \\'retweeted\\': False, \\'filter_level\\': \\'low\\', \\'lang\\': \\'en\\', \\'timestamp_ms\\': \\'1538157508728\\'}'"
      ]
     },
     "execution_count": 50,
     "metadata": {},
     "output_type": "execute_result"
    }
   ],
   "source": [
    "splitArray[570]"
   ]
  },
  {
   "cell_type": "code",
   "execution_count": null,
   "metadata": {
    "collapsed": true
   },
   "outputs": [],
   "source": []
  }
 ],
 "metadata": {
  "kernelspec": {
   "display_name": "Python 3",
   "language": "python",
   "name": "python3"
  },
  "language_info": {
   "codemirror_mode": {
    "name": "ipython",
    "version": 3
   },
   "file_extension": ".py",
   "mimetype": "text/x-python",
   "name": "python",
   "nbconvert_exporter": "python",
   "pygments_lexer": "ipython3",
   "version": "3.6.3"
  }
 },
 "nbformat": 4,
 "nbformat_minor": 2
}
