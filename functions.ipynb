{
 "cells": [
  {
   "cell_type": "code",
   "execution_count": 1,
   "metadata": {
    "collapsed": true
   },
   "outputs": [],
   "source": [
    "def extraction(array):\n",
    "    extractionArray = []\n",
    "    for i, j in enumerate(array):\n",
    "        if 'retweeted_status'in j and 'extended_tweet' in j['retweeted_status']:\n",
    "            #print(str(i) + \": \"+ j['retweeted_status']['extended_tweet']['full_text'])\n",
    "            extractionArray.append(j['retweeted_status']['extended_tweet']['full_text'])\n",
    "        elif 'retweeted_status' not in j and 'extended_tweet' in j:\n",
    "            #print(str(i) + \": \"+ j['extended_tweet']['full_text'])\n",
    "            extractionArray.append(j['extended_tweet']['full_text'])\n",
    "        else:\n",
    "            #print(str(i)+ \": \" + j['text'])\n",
    "            extractionArray.append(j['text'])\n",
    "    \n",
    "    return extractionArray"
   ]
  },
  {
   "cell_type": "code",
   "execution_count": 4,
   "metadata": {
    "collapsed": true
   },
   "outputs": [],
   "source": [
    "def splitFile(file):\n",
    "    return file.split(\"\\?\")"
   ]
  },
  {
   "cell_type": "code",
   "execution_count": 5,
   "metadata": {
    "collapsed": true
   },
   "outputs": [],
   "source": [
    "import csv\n",
    "def labelExtraction(file):\n",
    "    csv_file = open(file)\n",
    "    csv_reader = csv.reader(csv_file, delimiter = ' ')\n",
    "    labels = []\n",
    "    for row in csv_reader:\n",
    "        labels.append(row[0])\n",
    "        \n",
    "    return labels"
   ]
  },
  {
   "cell_type": "code",
   "execution_count": null,
   "metadata": {
    "collapsed": true
   },
   "outputs": [],
   "source": []
  }
 ],
 "metadata": {
  "kernelspec": {
   "display_name": "Python 3",
   "language": "python",
   "name": "python3"
  },
  "language_info": {
   "codemirror_mode": {
    "name": "ipython",
    "version": 3
   },
   "file_extension": ".py",
   "mimetype": "text/x-python",
   "name": "python",
   "nbconvert_exporter": "python",
   "pygments_lexer": "ipython3",
   "version": "3.6.3"
  }
 },
 "nbformat": 4,
 "nbformat_minor": 2
}
